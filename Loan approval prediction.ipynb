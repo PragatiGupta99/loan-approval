{
 "cells": [
  {
   "cell_type": "markdown",
   "id": "e3f54d90",
   "metadata": {},
   "source": [
    "# Project : Loan Prediction"
   ]
  },
  {
   "cell_type": "code",
   "execution_count": 2,
   "id": "11593451",
   "metadata": {},
   "outputs": [],
   "source": [
    "import pandas as pd\n",
    "import numpy as np\n",
    "import matplotlib.pyplot as plt"
   ]
  },
  {
   "cell_type": "code",
   "execution_count": 3,
   "id": "3719a9a9",
   "metadata": {},
   "outputs": [],
   "source": [
    "data=pd.read_csv(\"E:\\Data Science\\\\Loan_prediction.csv\")"
   ]
  },
  {
   "cell_type": "code",
   "execution_count": 4,
   "id": "e4c98f52",
   "metadata": {},
   "outputs": [
    {
     "data": {
      "text/html": [
       "<div>\n",
       "<style scoped>\n",
       "    .dataframe tbody tr th:only-of-type {\n",
       "        vertical-align: middle;\n",
       "    }\n",
       "\n",
       "    .dataframe tbody tr th {\n",
       "        vertical-align: top;\n",
       "    }\n",
       "\n",
       "    .dataframe thead th {\n",
       "        text-align: right;\n",
       "    }\n",
       "</style>\n",
       "<table border=\"1\" class=\"dataframe\">\n",
       "  <thead>\n",
       "    <tr style=\"text-align: right;\">\n",
       "      <th></th>\n",
       "      <th>Loan_ID</th>\n",
       "      <th>Gender</th>\n",
       "      <th>Married</th>\n",
       "      <th>Dependents</th>\n",
       "      <th>Education</th>\n",
       "      <th>Self_Employed</th>\n",
       "      <th>ApplicantIncome</th>\n",
       "      <th>CoapplicantIncome</th>\n",
       "      <th>LoanAmount</th>\n",
       "      <th>Loan_Amount_Term</th>\n",
       "      <th>Credit_History</th>\n",
       "      <th>Property_Area</th>\n",
       "      <th>Loan_Status</th>\n",
       "    </tr>\n",
       "  </thead>\n",
       "  <tbody>\n",
       "    <tr>\n",
       "      <th>0</th>\n",
       "      <td>LP001002</td>\n",
       "      <td>Male</td>\n",
       "      <td>No</td>\n",
       "      <td>0</td>\n",
       "      <td>Graduate</td>\n",
       "      <td>No</td>\n",
       "      <td>5849</td>\n",
       "      <td>0.0</td>\n",
       "      <td>NaN</td>\n",
       "      <td>360.0</td>\n",
       "      <td>1.0</td>\n",
       "      <td>Urban</td>\n",
       "      <td>Y</td>\n",
       "    </tr>\n",
       "    <tr>\n",
       "      <th>1</th>\n",
       "      <td>LP001003</td>\n",
       "      <td>Male</td>\n",
       "      <td>Yes</td>\n",
       "      <td>1</td>\n",
       "      <td>Graduate</td>\n",
       "      <td>No</td>\n",
       "      <td>4583</td>\n",
       "      <td>1508.0</td>\n",
       "      <td>128.0</td>\n",
       "      <td>360.0</td>\n",
       "      <td>1.0</td>\n",
       "      <td>Rural</td>\n",
       "      <td>N</td>\n",
       "    </tr>\n",
       "    <tr>\n",
       "      <th>2</th>\n",
       "      <td>LP001005</td>\n",
       "      <td>Male</td>\n",
       "      <td>Yes</td>\n",
       "      <td>0</td>\n",
       "      <td>Graduate</td>\n",
       "      <td>Yes</td>\n",
       "      <td>3000</td>\n",
       "      <td>0.0</td>\n",
       "      <td>66.0</td>\n",
       "      <td>360.0</td>\n",
       "      <td>1.0</td>\n",
       "      <td>Urban</td>\n",
       "      <td>Y</td>\n",
       "    </tr>\n",
       "    <tr>\n",
       "      <th>3</th>\n",
       "      <td>LP001006</td>\n",
       "      <td>Male</td>\n",
       "      <td>Yes</td>\n",
       "      <td>0</td>\n",
       "      <td>Not Graduate</td>\n",
       "      <td>No</td>\n",
       "      <td>2583</td>\n",
       "      <td>2358.0</td>\n",
       "      <td>120.0</td>\n",
       "      <td>360.0</td>\n",
       "      <td>1.0</td>\n",
       "      <td>Urban</td>\n",
       "      <td>Y</td>\n",
       "    </tr>\n",
       "    <tr>\n",
       "      <th>4</th>\n",
       "      <td>LP001008</td>\n",
       "      <td>Male</td>\n",
       "      <td>No</td>\n",
       "      <td>0</td>\n",
       "      <td>Graduate</td>\n",
       "      <td>No</td>\n",
       "      <td>6000</td>\n",
       "      <td>0.0</td>\n",
       "      <td>141.0</td>\n",
       "      <td>360.0</td>\n",
       "      <td>1.0</td>\n",
       "      <td>Urban</td>\n",
       "      <td>Y</td>\n",
       "    </tr>\n",
       "    <tr>\n",
       "      <th>...</th>\n",
       "      <td>...</td>\n",
       "      <td>...</td>\n",
       "      <td>...</td>\n",
       "      <td>...</td>\n",
       "      <td>...</td>\n",
       "      <td>...</td>\n",
       "      <td>...</td>\n",
       "      <td>...</td>\n",
       "      <td>...</td>\n",
       "      <td>...</td>\n",
       "      <td>...</td>\n",
       "      <td>...</td>\n",
       "      <td>...</td>\n",
       "    </tr>\n",
       "    <tr>\n",
       "      <th>609</th>\n",
       "      <td>LP002978</td>\n",
       "      <td>Female</td>\n",
       "      <td>No</td>\n",
       "      <td>0</td>\n",
       "      <td>Graduate</td>\n",
       "      <td>No</td>\n",
       "      <td>2900</td>\n",
       "      <td>0.0</td>\n",
       "      <td>71.0</td>\n",
       "      <td>360.0</td>\n",
       "      <td>1.0</td>\n",
       "      <td>Rural</td>\n",
       "      <td>Y</td>\n",
       "    </tr>\n",
       "    <tr>\n",
       "      <th>610</th>\n",
       "      <td>LP002979</td>\n",
       "      <td>Male</td>\n",
       "      <td>Yes</td>\n",
       "      <td>3+</td>\n",
       "      <td>Graduate</td>\n",
       "      <td>No</td>\n",
       "      <td>4106</td>\n",
       "      <td>0.0</td>\n",
       "      <td>40.0</td>\n",
       "      <td>180.0</td>\n",
       "      <td>1.0</td>\n",
       "      <td>Rural</td>\n",
       "      <td>Y</td>\n",
       "    </tr>\n",
       "    <tr>\n",
       "      <th>611</th>\n",
       "      <td>LP002983</td>\n",
       "      <td>Male</td>\n",
       "      <td>Yes</td>\n",
       "      <td>1</td>\n",
       "      <td>Graduate</td>\n",
       "      <td>No</td>\n",
       "      <td>8072</td>\n",
       "      <td>240.0</td>\n",
       "      <td>253.0</td>\n",
       "      <td>360.0</td>\n",
       "      <td>1.0</td>\n",
       "      <td>Urban</td>\n",
       "      <td>Y</td>\n",
       "    </tr>\n",
       "    <tr>\n",
       "      <th>612</th>\n",
       "      <td>LP002984</td>\n",
       "      <td>Male</td>\n",
       "      <td>Yes</td>\n",
       "      <td>2</td>\n",
       "      <td>Graduate</td>\n",
       "      <td>No</td>\n",
       "      <td>7583</td>\n",
       "      <td>0.0</td>\n",
       "      <td>187.0</td>\n",
       "      <td>360.0</td>\n",
       "      <td>1.0</td>\n",
       "      <td>Urban</td>\n",
       "      <td>Y</td>\n",
       "    </tr>\n",
       "    <tr>\n",
       "      <th>613</th>\n",
       "      <td>LP002990</td>\n",
       "      <td>Female</td>\n",
       "      <td>No</td>\n",
       "      <td>0</td>\n",
       "      <td>Graduate</td>\n",
       "      <td>Yes</td>\n",
       "      <td>4583</td>\n",
       "      <td>0.0</td>\n",
       "      <td>133.0</td>\n",
       "      <td>360.0</td>\n",
       "      <td>0.0</td>\n",
       "      <td>Semiurban</td>\n",
       "      <td>N</td>\n",
       "    </tr>\n",
       "  </tbody>\n",
       "</table>\n",
       "<p>614 rows × 13 columns</p>\n",
       "</div>"
      ],
      "text/plain": [
       "      Loan_ID  Gender Married Dependents     Education Self_Employed  \\\n",
       "0    LP001002    Male      No          0      Graduate            No   \n",
       "1    LP001003    Male     Yes          1      Graduate            No   \n",
       "2    LP001005    Male     Yes          0      Graduate           Yes   \n",
       "3    LP001006    Male     Yes          0  Not Graduate            No   \n",
       "4    LP001008    Male      No          0      Graduate            No   \n",
       "..        ...     ...     ...        ...           ...           ...   \n",
       "609  LP002978  Female      No          0      Graduate            No   \n",
       "610  LP002979    Male     Yes         3+      Graduate            No   \n",
       "611  LP002983    Male     Yes          1      Graduate            No   \n",
       "612  LP002984    Male     Yes          2      Graduate            No   \n",
       "613  LP002990  Female      No          0      Graduate           Yes   \n",
       "\n",
       "     ApplicantIncome  CoapplicantIncome  LoanAmount  Loan_Amount_Term  \\\n",
       "0               5849                0.0         NaN             360.0   \n",
       "1               4583             1508.0       128.0             360.0   \n",
       "2               3000                0.0        66.0             360.0   \n",
       "3               2583             2358.0       120.0             360.0   \n",
       "4               6000                0.0       141.0             360.0   \n",
       "..               ...                ...         ...               ...   \n",
       "609             2900                0.0        71.0             360.0   \n",
       "610             4106                0.0        40.0             180.0   \n",
       "611             8072              240.0       253.0             360.0   \n",
       "612             7583                0.0       187.0             360.0   \n",
       "613             4583                0.0       133.0             360.0   \n",
       "\n",
       "     Credit_History Property_Area Loan_Status  \n",
       "0               1.0         Urban           Y  \n",
       "1               1.0         Rural           N  \n",
       "2               1.0         Urban           Y  \n",
       "3               1.0         Urban           Y  \n",
       "4               1.0         Urban           Y  \n",
       "..              ...           ...         ...  \n",
       "609             1.0         Rural           Y  \n",
       "610             1.0         Rural           Y  \n",
       "611             1.0         Urban           Y  \n",
       "612             1.0         Urban           Y  \n",
       "613             0.0     Semiurban           N  \n",
       "\n",
       "[614 rows x 13 columns]"
      ]
     },
     "execution_count": 4,
     "metadata": {},
     "output_type": "execute_result"
    }
   ],
   "source": [
    "data"
   ]
  },
  {
   "cell_type": "code",
   "execution_count": 5,
   "id": "aee320fc",
   "metadata": {},
   "outputs": [
    {
     "name": "stdout",
     "output_type": "stream",
     "text": [
      "<class 'pandas.core.frame.DataFrame'>\n",
      "RangeIndex: 614 entries, 0 to 613\n",
      "Data columns (total 13 columns):\n",
      " #   Column             Non-Null Count  Dtype  \n",
      "---  ------             --------------  -----  \n",
      " 0   Loan_ID            614 non-null    object \n",
      " 1   Gender             601 non-null    object \n",
      " 2   Married            611 non-null    object \n",
      " 3   Dependents         599 non-null    object \n",
      " 4   Education          614 non-null    object \n",
      " 5   Self_Employed      582 non-null    object \n",
      " 6   ApplicantIncome    614 non-null    int64  \n",
      " 7   CoapplicantIncome  614 non-null    float64\n",
      " 8   LoanAmount         592 non-null    float64\n",
      " 9   Loan_Amount_Term   600 non-null    float64\n",
      " 10  Credit_History     564 non-null    float64\n",
      " 11  Property_Area      614 non-null    object \n",
      " 12  Loan_Status        614 non-null    object \n",
      "dtypes: float64(4), int64(1), object(8)\n",
      "memory usage: 43.2+ KB\n"
     ]
    }
   ],
   "source": [
    "data.info()"
   ]
  },
  {
   "cell_type": "code",
   "execution_count": 9,
   "id": "e0178a74",
   "metadata": {},
   "outputs": [],
   "source": [
    "#Data - Preprocessing"
   ]
  },
  {
   "cell_type": "code",
   "execution_count": 10,
   "id": "b375bfb5",
   "metadata": {},
   "outputs": [
    {
     "data": {
      "text/plain": [
       "Loan_ID               0\n",
       "Gender               13\n",
       "Married               3\n",
       "Dependents           15\n",
       "Education             0\n",
       "Self_Employed        32\n",
       "ApplicantIncome       0\n",
       "CoapplicantIncome     0\n",
       "LoanAmount           22\n",
       "Loan_Amount_Term     14\n",
       "Credit_History       50\n",
       "Property_Area         0\n",
       "Loan_Status           0\n",
       "dtype: int64"
      ]
     },
     "execution_count": 10,
     "metadata": {},
     "output_type": "execute_result"
    }
   ],
   "source": [
    "data.isna().sum()"
   ]
  },
  {
   "cell_type": "code",
   "execution_count": 11,
   "id": "b29ab596",
   "metadata": {},
   "outputs": [
    {
     "data": {
      "text/plain": [
       "Male      489\n",
       "Female    112\n",
       "Name: Gender, dtype: int64"
      ]
     },
     "execution_count": 11,
     "metadata": {},
     "output_type": "execute_result"
    }
   ],
   "source": [
    "data['Gender'].value_counts()"
   ]
  },
  {
   "cell_type": "code",
   "execution_count": 12,
   "id": "6da1cb42",
   "metadata": {},
   "outputs": [],
   "source": [
    "data.Gender=data.Gender.fillna(\"Male\")"
   ]
  },
  {
   "cell_type": "code",
   "execution_count": 16,
   "id": "0752266b",
   "metadata": {},
   "outputs": [
    {
     "data": {
      "text/plain": [
       "Yes    398\n",
       "No     213\n",
       "Name: Married, dtype: int64"
      ]
     },
     "execution_count": 16,
     "metadata": {},
     "output_type": "execute_result"
    }
   ],
   "source": [
    "data['Married'].value_counts()"
   ]
  },
  {
   "cell_type": "code",
   "execution_count": 18,
   "id": "65667366",
   "metadata": {},
   "outputs": [],
   "source": [
    "data.Married=data.Married.fillna(\"Yes\")"
   ]
  },
  {
   "cell_type": "code",
   "execution_count": 19,
   "id": "958af0e4",
   "metadata": {},
   "outputs": [
    {
     "data": {
      "text/plain": [
       "0     345\n",
       "1     102\n",
       "2     101\n",
       "3+     51\n",
       "Name: Dependents, dtype: int64"
      ]
     },
     "execution_count": 19,
     "metadata": {},
     "output_type": "execute_result"
    }
   ],
   "source": [
    "data.Dependents.value_counts()"
   ]
  },
  {
   "cell_type": "code",
   "execution_count": 20,
   "id": "b2135b83",
   "metadata": {},
   "outputs": [],
   "source": [
    "data.Dependents=data.Dependents.fillna(\"0\")"
   ]
  },
  {
   "cell_type": "code",
   "execution_count": 21,
   "id": "b2625a2d",
   "metadata": {},
   "outputs": [
    {
     "data": {
      "text/plain": [
       "No     500\n",
       "Yes     82\n",
       "Name: Self_Employed, dtype: int64"
      ]
     },
     "execution_count": 21,
     "metadata": {},
     "output_type": "execute_result"
    }
   ],
   "source": [
    "data.Self_Employed.value_counts()"
   ]
  },
  {
   "cell_type": "code",
   "execution_count": 22,
   "id": "a29eb66a",
   "metadata": {},
   "outputs": [],
   "source": [
    "data.Self_Employed=data.Self_Employed.fillna(\"No\")"
   ]
  },
  {
   "cell_type": "code",
   "execution_count": 23,
   "id": "7fd7ca08",
   "metadata": {},
   "outputs": [
    {
     "data": {
      "text/plain": [
       "120.0    20\n",
       "110.0    17\n",
       "100.0    15\n",
       "160.0    12\n",
       "187.0    12\n",
       "         ..\n",
       "240.0     1\n",
       "214.0     1\n",
       "59.0      1\n",
       "166.0     1\n",
       "253.0     1\n",
       "Name: LoanAmount, Length: 203, dtype: int64"
      ]
     },
     "execution_count": 23,
     "metadata": {},
     "output_type": "execute_result"
    }
   ],
   "source": [
    "data.LoanAmount.value_counts()"
   ]
  },
  {
   "cell_type": "code",
   "execution_count": 24,
   "id": "3a619aed",
   "metadata": {},
   "outputs": [],
   "source": [
    "data.LoanAmount=data.LoanAmount.fillna(120.0)"
   ]
  },
  {
   "cell_type": "code",
   "execution_count": 25,
   "id": "945bfd9d",
   "metadata": {},
   "outputs": [
    {
     "data": {
      "text/plain": [
       "360.0    512\n",
       "180.0     44\n",
       "480.0     15\n",
       "300.0     13\n",
       "240.0      4\n",
       "84.0       4\n",
       "120.0      3\n",
       "60.0       2\n",
       "36.0       2\n",
       "12.0       1\n",
       "Name: Loan_Amount_Term, dtype: int64"
      ]
     },
     "execution_count": 25,
     "metadata": {},
     "output_type": "execute_result"
    }
   ],
   "source": [
    "data.Loan_Amount_Term.value_counts()"
   ]
  },
  {
   "cell_type": "code",
   "execution_count": 26,
   "id": "1900ae9f",
   "metadata": {},
   "outputs": [],
   "source": [
    "data.Loan_Amount_Term=data.Loan_Amount_Term.fillna(360.0)"
   ]
  },
  {
   "cell_type": "code",
   "execution_count": 27,
   "id": "a901a3c6",
   "metadata": {},
   "outputs": [
    {
     "data": {
      "text/plain": [
       "1.0    475\n",
       "0.0     89\n",
       "Name: Credit_History, dtype: int64"
      ]
     },
     "execution_count": 27,
     "metadata": {},
     "output_type": "execute_result"
    }
   ],
   "source": [
    "data.Credit_History.value_counts()"
   ]
  },
  {
   "cell_type": "code",
   "execution_count": 30,
   "id": "10657cb8",
   "metadata": {},
   "outputs": [],
   "source": [
    "data.Credit_History=data.Credit_History.fillna(1.0)"
   ]
  },
  {
   "cell_type": "code",
   "execution_count": 31,
   "id": "3420ac8a",
   "metadata": {},
   "outputs": [
    {
     "data": {
      "text/plain": [
       "Loan_ID              0\n",
       "Gender               0\n",
       "Married              0\n",
       "Dependents           0\n",
       "Education            0\n",
       "Self_Employed        0\n",
       "ApplicantIncome      0\n",
       "CoapplicantIncome    0\n",
       "LoanAmount           0\n",
       "Loan_Amount_Term     0\n",
       "Credit_History       0\n",
       "Property_Area        0\n",
       "Loan_Status          0\n",
       "dtype: int64"
      ]
     },
     "execution_count": 31,
     "metadata": {},
     "output_type": "execute_result"
    }
   ],
   "source": [
    "data.isna().sum()"
   ]
  },
  {
   "cell_type": "code",
   "execution_count": 32,
   "id": "277fbd60",
   "metadata": {},
   "outputs": [],
   "source": [
    "#split the data into inputs and outputs"
   ]
  },
  {
   "cell_type": "code",
   "execution_count": 33,
   "id": "2b5e63a2",
   "metadata": {},
   "outputs": [],
   "source": [
    "x=data.iloc[:,1:12].values"
   ]
  },
  {
   "cell_type": "code",
   "execution_count": 34,
   "id": "688b0514",
   "metadata": {},
   "outputs": [],
   "source": [
    "y=data.iloc[:,12]"
   ]
  },
  {
   "cell_type": "code",
   "execution_count": 35,
   "id": "c807282d",
   "metadata": {},
   "outputs": [
    {
     "data": {
      "text/plain": [
       "array([['Male', 'No', '0', ..., 360.0, 1.0, 'Urban'],\n",
       "       ['Male', 'Yes', '1', ..., 360.0, 1.0, 'Rural'],\n",
       "       ['Male', 'Yes', '0', ..., 360.0, 1.0, 'Urban'],\n",
       "       ...,\n",
       "       ['Male', 'Yes', '1', ..., 360.0, 1.0, 'Urban'],\n",
       "       ['Male', 'Yes', '2', ..., 360.0, 1.0, 'Urban'],\n",
       "       ['Female', 'No', '0', ..., 360.0, 0.0, 'Semiurban']], dtype=object)"
      ]
     },
     "execution_count": 35,
     "metadata": {},
     "output_type": "execute_result"
    }
   ],
   "source": [
    "x"
   ]
  },
  {
   "cell_type": "code",
   "execution_count": 36,
   "id": "a016ed27",
   "metadata": {},
   "outputs": [],
   "source": [
    "#train and test split"
   ]
  },
  {
   "cell_type": "code",
   "execution_count": 37,
   "id": "b6f80182",
   "metadata": {},
   "outputs": [],
   "source": [
    "from sklearn.model_selection import train_test_split"
   ]
  },
  {
   "cell_type": "code",
   "execution_count": 38,
   "id": "8cf9669f",
   "metadata": {},
   "outputs": [],
   "source": [
    "x_train,x_test,y_train,y_test=train_test_split(x,y,test_size=0.25,random_state=0)"
   ]
  },
  {
   "cell_type": "code",
   "execution_count": 39,
   "id": "c8925b53",
   "metadata": {},
   "outputs": [],
   "source": [
    "from sklearn.preprocessing import LabelEncoder"
   ]
  },
  {
   "cell_type": "code",
   "execution_count": 40,
   "id": "3be1d9a9",
   "metadata": {},
   "outputs": [],
   "source": [
    "le=LabelEncoder()"
   ]
  },
  {
   "cell_type": "code",
   "execution_count": 43,
   "id": "fb2a2c38",
   "metadata": {},
   "outputs": [],
   "source": [
    "for i in range(0,5):\n",
    "    x_train[:,i]=le.fit_transform(x_train[:,i])\n",
    "x_train[:,10]=le.fit_transform(x_train[:,10])"
   ]
  },
  {
   "cell_type": "code",
   "execution_count": 44,
   "id": "8ae78942",
   "metadata": {},
   "outputs": [],
   "source": [
    "le_y=LabelEncoder()"
   ]
  },
  {
   "cell_type": "code",
   "execution_count": 45,
   "id": "36cdd374",
   "metadata": {},
   "outputs": [],
   "source": [
    "y_train=le_y.fit_transform(y_train)"
   ]
  },
  {
   "cell_type": "code",
   "execution_count": 46,
   "id": "fe1f0160",
   "metadata": {},
   "outputs": [],
   "source": [
    "le_xt=LabelEncoder()"
   ]
  },
  {
   "cell_type": "code",
   "execution_count": 47,
   "id": "e3829c5a",
   "metadata": {},
   "outputs": [],
   "source": [
    "for i in range(0,5):\n",
    "    x_test[:,i]=le.fit_transform(x_test[:,i])\n",
    "x_test[:,10]=le.fit_transform(x_test[:,10])"
   ]
  },
  {
   "cell_type": "code",
   "execution_count": 48,
   "id": "0058a3a9",
   "metadata": {},
   "outputs": [],
   "source": [
    "y_test=le_y.fit_transform(y_test)"
   ]
  },
  {
   "cell_type": "code",
   "execution_count": 49,
   "id": "3153d392",
   "metadata": {},
   "outputs": [
    {
     "data": {
      "text/plain": [
       "array([1, 0, 1, 0, 1, 0, 1, 1, 0, 1, 1, 1, 1, 1, 1, 0, 0, 1, 1, 0, 0, 1,\n",
       "       1, 1, 1, 1, 1, 1, 0, 0, 1, 1, 1, 1, 1, 0, 1, 1, 1, 1, 1, 0, 1, 1,\n",
       "       1, 1, 1, 1, 0, 1, 1, 1, 1, 1, 1, 1, 1, 0, 1, 1, 1, 0, 1, 0, 1, 1,\n",
       "       1, 1, 1, 1, 0, 1, 1, 1, 1, 1, 0, 0, 1, 0, 1, 0, 0, 1, 0, 1, 1, 1,\n",
       "       1, 1, 1, 0, 0, 0, 1, 0, 1, 1, 1, 1, 1, 1, 1, 0, 1, 1, 1, 1, 1, 0,\n",
       "       1, 0, 0, 1, 0, 1, 1, 1, 1, 1, 1, 0, 1, 1, 0, 0, 1, 1, 0, 1, 1, 1,\n",
       "       0, 0, 1, 1, 1, 1, 1, 1, 1, 1, 0, 1, 1, 0, 1, 1, 0, 0, 1, 1, 1, 0])"
      ]
     },
     "execution_count": 49,
     "metadata": {},
     "output_type": "execute_result"
    }
   ],
   "source": [
    "y_test"
   ]
  },
  {
   "cell_type": "code",
   "execution_count": 50,
   "id": "fc239749",
   "metadata": {},
   "outputs": [],
   "source": [
    "#scaling"
   ]
  },
  {
   "cell_type": "code",
   "execution_count": 51,
   "id": "f3c94810",
   "metadata": {},
   "outputs": [],
   "source": [
    "from sklearn.preprocessing import StandardScaler"
   ]
  },
  {
   "cell_type": "code",
   "execution_count": 52,
   "id": "4425ae2f",
   "metadata": {},
   "outputs": [],
   "source": [
    "sc=StandardScaler()"
   ]
  },
  {
   "cell_type": "code",
   "execution_count": 53,
   "id": "056e5f03",
   "metadata": {},
   "outputs": [],
   "source": [
    "x_train=sc.fit_transform(x_train)"
   ]
  },
  {
   "cell_type": "code",
   "execution_count": 54,
   "id": "adf566bf",
   "metadata": {},
   "outputs": [],
   "source": [
    "x_test=sc.fit_transform(x_test)"
   ]
  },
  {
   "cell_type": "code",
   "execution_count": 55,
   "id": "16c1f212",
   "metadata": {},
   "outputs": [],
   "source": [
    "#PCA"
   ]
  },
  {
   "cell_type": "code",
   "execution_count": 56,
   "id": "f12c5995",
   "metadata": {},
   "outputs": [],
   "source": [
    "from sklearn.decomposition import PCA"
   ]
  },
  {
   "cell_type": "code",
   "execution_count": 57,
   "id": "4ea32778",
   "metadata": {},
   "outputs": [],
   "source": [
    "pca=PCA(n_components=2)"
   ]
  },
  {
   "cell_type": "code",
   "execution_count": 58,
   "id": "14f2192d",
   "metadata": {},
   "outputs": [],
   "source": [
    "x_train=pca.fit_transform(x_train)"
   ]
  },
  {
   "cell_type": "code",
   "execution_count": 59,
   "id": "5558f5f9",
   "metadata": {},
   "outputs": [
    {
     "data": {
      "text/plain": [
       "array([[-3.01967823e-01, -6.30904566e-01],\n",
       "       [-1.06346720e+00,  5.38431924e-01],\n",
       "       [ 2.51088734e-01,  1.84151797e-01],\n",
       "       [-1.59355032e+00,  2.16869786e+00],\n",
       "       [-2.40857583e+00,  1.46469167e+00],\n",
       "       [-1.25463562e+00, -1.17111648e-01],\n",
       "       [-2.25197158e+00,  9.00106596e-01],\n",
       "       [ 3.33823035e-01, -7.70795631e-01],\n",
       "       [-1.04946816e+00,  8.79781039e-01],\n",
       "       [ 7.36773460e-01, -2.66648690e+00],\n",
       "       [ 4.88338542e-01, -1.59322116e+00],\n",
       "       [-8.00295170e-01, -1.53778649e+00],\n",
       "       [ 3.60633810e-01,  4.44454902e-01],\n",
       "       [-2.72208836e+00,  4.99299299e-01],\n",
       "       [ 1.34996012e+00, -4.44471525e-01],\n",
       "       [ 5.65764608e-01, -9.75130714e-01],\n",
       "       [-1.14573064e+00,  2.43259522e+00],\n",
       "       [ 1.74208776e+00, -1.23300443e+00],\n",
       "       [-1.45605501e+00,  1.89639408e+00],\n",
       "       [-1.32633463e-01, -2.41626153e-01],\n",
       "       [-1.69185550e+00,  2.34072739e+00],\n",
       "       [-1.56737163e+00, -3.83131903e-01],\n",
       "       [-2.02666287e+00,  9.68033456e-01],\n",
       "       [-2.08524411e-01, -3.57377841e-01],\n",
       "       [ 2.19049794e+00,  2.57174068e+00],\n",
       "       [-1.56224646e+00,  5.04486137e-01],\n",
       "       [-1.59973473e-01, -4.78356813e-01],\n",
       "       [ 1.18956289e+00, -1.16049692e+00],\n",
       "       [-1.64523181e+00,  5.53067027e-01],\n",
       "       [-8.02106388e-03, -1.31890196e-01],\n",
       "       [-1.20987510e+00,  6.93685106e-01],\n",
       "       [ 6.28529305e-01,  1.52733365e+00],\n",
       "       [ 3.73237820e-01, -9.82994716e-01],\n",
       "       [-2.85201674e-01, -4.06233450e-01],\n",
       "       [ 4.01988026e-01, -6.07664622e-01],\n",
       "       [ 2.65327344e+00,  2.93530002e-01],\n",
       "       [ 5.40148019e-01, -9.90365887e-01],\n",
       "       [ 1.07628695e+00,  7.75942760e-01],\n",
       "       [-2.62227075e-01, -3.16208957e-01],\n",
       "       [-2.85702492e-01, -1.27504870e+00],\n",
       "       [-4.44108559e-01, -1.24743581e+00],\n",
       "       [ 1.06706881e+00, -6.00123148e-01],\n",
       "       [-3.41864047e-01, -8.01785990e-01],\n",
       "       [ 7.77932187e+00,  3.95643079e+00],\n",
       "       [ 6.53151641e-03, -2.36269568e-01],\n",
       "       [-7.79158102e-01,  2.22893750e+00],\n",
       "       [-4.68042064e-01, -1.14431704e+00],\n",
       "       [-5.34691406e-01,  8.08909133e-01],\n",
       "       [-4.75288697e-01, -1.26654205e+00],\n",
       "       [-5.69411705e-02, -2.68733527e+00],\n",
       "       [ 3.96196082e+00,  2.25298312e+00],\n",
       "       [ 1.21341925e+00, -1.51088632e+00],\n",
       "       [ 7.08515059e-01, -2.13497355e-02],\n",
       "       [ 6.22691433e-01, -2.10556564e+00],\n",
       "       [ 2.10804055e-02, -2.38093860e-01],\n",
       "       [ 5.12250693e-01, -7.91729179e-01],\n",
       "       [ 9.63215112e-01,  1.52183297e-01],\n",
       "       [ 6.38155826e+00,  4.28624184e+00],\n",
       "       [-2.23247888e+00,  1.67210647e+00],\n",
       "       [-1.21763484e-01, -1.21276787e+00],\n",
       "       [-2.31658616e-01, -1.30998695e+00],\n",
       "       [-2.52392399e+00,  7.48465540e-01],\n",
       "       [-1.99416897e-01, -3.85107130e-01],\n",
       "       [-6.06922036e-02, -1.23811223e+00],\n",
       "       [ 9.48645984e-02, -1.81712410e+00],\n",
       "       [ 1.74105639e+00, -2.45437740e+00],\n",
       "       [-3.52287875e-01, -3.07549359e-01],\n",
       "       [-5.18553444e-01, -4.70912687e-01],\n",
       "       [ 9.93268906e-01,  2.68247589e-01],\n",
       "       [ 2.59869368e-01,  8.33772797e-02],\n",
       "       [ 3.73531931e+00,  1.06002558e+00],\n",
       "       [ 3.53353006e+00,  2.05013424e+00],\n",
       "       [ 5.24836475e-01,  5.38923113e-01],\n",
       "       [ 7.71639092e+00,  4.65035595e+00],\n",
       "       [-1.70067256e+00,  1.99103722e+00],\n",
       "       [-2.95354329e-01,  1.60833609e-01],\n",
       "       [ 2.55680305e-01, -6.96678348e-01],\n",
       "       [ 6.91032563e-02, -6.89775491e-01],\n",
       "       [-5.82120622e-01,  9.34814273e-01],\n",
       "       [-3.01538363e-02, -9.22796284e-02],\n",
       "       [ 9.61967538e-01, -5.57603415e-01],\n",
       "       [-6.90646619e-01,  4.33766619e-01],\n",
       "       [ 1.24297073e+00, -1.02098684e+00],\n",
       "       [ 8.94878580e-01,  6.44220340e-01],\n",
       "       [-1.73884964e+00,  6.99760512e-02],\n",
       "       [ 1.72046338e+00,  1.43996401e-01],\n",
       "       [-1.73481338e+00,  1.77940535e+00],\n",
       "       [ 1.31951186e+00, -9.98216109e-01],\n",
       "       [ 1.22126249e-01, -2.32192804e+00],\n",
       "       [ 2.12867717e-01, -1.63334947e+00],\n",
       "       [ 6.67437467e+00,  2.37894917e+00],\n",
       "       [ 1.26817505e-02, -2.81631838e-01],\n",
       "       [ 3.00154308e+00,  2.27939297e+00],\n",
       "       [-6.59605156e-01,  7.54629579e-01],\n",
       "       [-7.95794408e-01, -6.42533192e-01],\n",
       "       [-3.82092810e-01, -9.17003337e-01],\n",
       "       [-4.94556463e-02, -1.95410642e+00],\n",
       "       [ 1.50105802e+00,  2.29693729e+00],\n",
       "       [ 7.94541757e-01, -2.34372402e-01],\n",
       "       [-2.42224711e+00,  1.45367950e+00],\n",
       "       [-1.63997948e+00,  1.86685441e+00],\n",
       "       [ 6.58633124e-01,  4.63626879e-01],\n",
       "       [ 6.89931566e-01, -2.41807220e+00],\n",
       "       [ 5.77533235e-01, -6.04961337e-01],\n",
       "       [ 2.12908135e+00,  4.69327789e-01],\n",
       "       [-1.61674247e-01, -1.69882303e+00],\n",
       "       [-4.59651087e-01, -4.76820223e-01],\n",
       "       [-1.58208076e-01, -3.75430418e-01],\n",
       "       [ 4.51800452e-01, -8.47517765e-01],\n",
       "       [-8.57082956e-01,  4.46245801e-01],\n",
       "       [-1.76213087e+00,  7.09520227e-01],\n",
       "       [-4.68762665e-01,  1.25921531e+00],\n",
       "       [-6.84047351e-01, -1.37521084e+00],\n",
       "       [-1.66138067e+00,  4.36650248e-01],\n",
       "       [-1.47406159e+00, -4.46573564e-01],\n",
       "       [-1.80286433e+00,  2.58218231e+00],\n",
       "       [-1.01772162e-01, -4.45841367e-01],\n",
       "       [-2.95651785e-01,  7.86336247e-01],\n",
       "       [ 1.41201339e+00, -5.79590062e-01],\n",
       "       [ 1.82442029e+00, -1.29611304e-01],\n",
       "       [ 2.77659279e-01, -8.88139713e-01],\n",
       "       [ 2.81818818e-01, -1.23778050e+00],\n",
       "       [ 7.97105243e-01, -7.37226549e-01],\n",
       "       [ 3.26746193e-03, -1.01358568e+00],\n",
       "       [-1.66419138e+00,  4.50898729e-01],\n",
       "       [ 3.69607814e-01, -1.74490944e+00],\n",
       "       [ 3.00603150e+00,  1.04383458e+00],\n",
       "       [-1.11315055e+00,  5.89698247e-01],\n",
       "       [-1.19367128e+00,  3.79491878e-01],\n",
       "       [-1.07600564e+00,  5.17529776e-01],\n",
       "       [-2.00090998e+00,  1.79140629e+00],\n",
       "       [-1.34627126e-01, -1.63108413e-01],\n",
       "       [-5.00258591e-01,  6.07883771e-01],\n",
       "       [-1.23269098e-01,  3.22243093e-01],\n",
       "       [ 1.97902299e+00, -3.46368566e-01],\n",
       "       [ 4.03819206e-01, -1.70456861e+00],\n",
       "       [-9.08195174e-01,  9.69170204e-01],\n",
       "       [ 1.52020590e+00, -3.71241625e-02],\n",
       "       [-6.15117284e-01, -5.95781184e-01],\n",
       "       [ 1.28421882e+00,  3.97820744e-01],\n",
       "       [-1.18288952e-01, -3.09053543e-01],\n",
       "       [ 2.26754258e+00,  2.32906421e-01],\n",
       "       [-7.79991218e-01,  1.03545738e+00],\n",
       "       [ 2.16006088e+00, -1.96580033e-01],\n",
       "       [ 2.36362100e+00, -6.75194057e-01],\n",
       "       [-1.25216887e+00, -1.07978592e-02],\n",
       "       [ 4.61486187e-01, -4.46368253e-01],\n",
       "       [-5.13083484e-01, -1.30731718e+00],\n",
       "       [ 4.70010889e-01,  8.09937563e-03],\n",
       "       [ 8.77845909e-01,  7.67919674e-01],\n",
       "       [-1.56467949e+00,  4.94801411e-01],\n",
       "       [ 9.33313331e-01, -4.22983473e-01],\n",
       "       [-2.88140588e-01, -2.78142840e-01],\n",
       "       [-6.88344658e-01, -4.50877807e-01],\n",
       "       [ 1.42751467e-01, -1.50386554e-01],\n",
       "       [ 3.94575556e-01, -2.82592521e-02],\n",
       "       [ 5.25804921e-01, -1.53543560e-01],\n",
       "       [-2.94625811e-01, -1.48316668e-01],\n",
       "       [ 4.17485644e-01, -8.05669845e-01],\n",
       "       [-1.31752038e+00,  5.69378678e-01],\n",
       "       [ 1.86367749e+00, -3.40671776e-01],\n",
       "       [-8.43537386e-01, -1.44241153e+00],\n",
       "       [-2.08274985e-01, -2.03244021e+00],\n",
       "       [-1.62226847e+00,  1.46325451e+00],\n",
       "       [ 4.73279637e-01, -3.52160477e-01],\n",
       "       [ 1.12069419e-01, -8.14649435e-01],\n",
       "       [-1.24749994e+00, -5.56043740e-02],\n",
       "       [ 4.95819974e-01, -4.50137512e-01],\n",
       "       [-3.34928432e-01,  1.37439792e+00],\n",
       "       [-7.60660047e-01,  9.28930645e-01],\n",
       "       [-1.61729832e+00,  2.50422082e-01],\n",
       "       [ 1.47552825e+00, -5.50212006e-01],\n",
       "       [ 8.11525466e-02, -6.74247704e-01],\n",
       "       [ 1.65747720e+00,  9.76441657e-02],\n",
       "       [ 6.67244530e-01, -8.24574229e-01],\n",
       "       [ 2.68885212e-01, -4.52993264e-01],\n",
       "       [-6.42507404e-02, -6.13387701e-01],\n",
       "       [ 3.61468854e+00,  4.48091991e-01],\n",
       "       [ 1.14137860e+00, -3.05418331e-01],\n",
       "       [-2.38892226e+00,  1.61084630e+00],\n",
       "       [-2.08618043e+00,  1.70054073e+00],\n",
       "       [-3.25649425e-01, -5.26301370e-01],\n",
       "       [-1.13760866e+00,  7.22122589e-01],\n",
       "       [-6.28300941e-02, -9.52019510e-02],\n",
       "       [-8.79672305e-01,  8.49630984e-01],\n",
       "       [-2.10285283e+00,  4.20903322e-01],\n",
       "       [-5.04442105e-02, -3.25223070e-01],\n",
       "       [-9.64297834e-01,  7.71315905e-01],\n",
       "       [-1.01098619e+00,  6.00184293e-01],\n",
       "       [-8.86950341e-01,  8.31632190e-01],\n",
       "       [-1.47195333e+00, -3.75306559e-01],\n",
       "       [ 7.02187797e-01,  3.63330033e-01],\n",
       "       [ 3.91370904e+00,  3.88564862e+00],\n",
       "       [ 2.86217338e+00, -6.20517657e-01],\n",
       "       [ 1.88717484e-01, -1.89594274e+00],\n",
       "       [ 1.39475943e+00, -1.86009151e+00],\n",
       "       [ 2.25652052e+00,  6.52699233e-01],\n",
       "       [-1.70691401e+00,  1.97670450e+00],\n",
       "       [-1.47763079e-01,  2.19087207e-02],\n",
       "       [ 8.14483257e-01, -2.03908293e+00],\n",
       "       [ 5.24706163e-01, -8.57803182e-01],\n",
       "       [ 1.15056628e+00, -8.08440467e-01],\n",
       "       [ 7.61675008e-02,  9.02118284e-01],\n",
       "       [-3.45532168e-01,  1.24810726e+00],\n",
       "       [ 1.66553608e-01, -2.17629998e+00],\n",
       "       [ 7.81135615e-01, -2.88851535e-01],\n",
       "       [-4.20391669e-01, -9.17829031e-01],\n",
       "       [-1.09949160e+00,  7.64291776e-01],\n",
       "       [-9.86107590e-01, -1.53988734e+00],\n",
       "       [ 1.18296850e+00,  3.08612150e-01],\n",
       "       [ 2.93246219e-01, -1.12054406e+00],\n",
       "       [ 5.28008653e-01, -4.18837839e-01],\n",
       "       [ 3.07158156e-01, -1.09254612e+00],\n",
       "       [-2.71783489e+00,  5.69387566e-01],\n",
       "       [-1.72391189e+00,  8.78323439e-01],\n",
       "       [ 1.93472253e-01, -1.80836915e+00],\n",
       "       [-1.55760837e+00, -3.74244054e-01],\n",
       "       [-2.12054886e+00,  1.71984397e+00],\n",
       "       [ 4.84719044e-01, -2.72818822e-01],\n",
       "       [ 5.43871779e-01, -2.86317443e-01],\n",
       "       [-1.68223646e+00, -1.19526883e+00],\n",
       "       [-1.23124833e+00,  7.66606851e-01],\n",
       "       [-1.66749052e+00,  3.64872038e-01],\n",
       "       [ 7.85650032e-01,  2.30286335e+00],\n",
       "       [-5.46988902e-01, -4.69008580e-01],\n",
       "       [-1.81270596e+00, -8.38538270e-01],\n",
       "       [-7.37024620e-03, -2.81829350e-01],\n",
       "       [-3.63276451e-01, -2.69558159e-01],\n",
       "       [-5.86653742e-02,  1.39141862e+00],\n",
       "       [-1.36997580e+00, -4.59984956e-01],\n",
       "       [ 4.36295141e-02, -1.06540183e+00],\n",
       "       [-2.48440713e-01, -3.25120754e-01],\n",
       "       [-3.01698758e-01,  1.39243082e+00],\n",
       "       [-5.55710576e-02, -3.38496210e-01],\n",
       "       [-1.86191898e-01, -7.31847580e-01],\n",
       "       [-3.66083888e-01,  1.40194587e+00],\n",
       "       [-2.49344557e+00,  1.40753961e+00],\n",
       "       [ 5.83123600e-01, -1.15607735e+00],\n",
       "       [-3.65502354e-01,  1.51093880e+00],\n",
       "       [-2.39851867e+00,  1.61518259e+00],\n",
       "       [ 4.05439080e-01, -8.58063109e-01],\n",
       "       [-1.26970783e+00,  6.54156914e-01],\n",
       "       [ 1.75100880e-01, -5.86376924e-02],\n",
       "       [-1.31844367e+00,  6.72272185e-01],\n",
       "       [-2.56498198e-01,  1.35448426e+00],\n",
       "       [ 3.17320068e-01, -8.59673473e-01],\n",
       "       [-1.77713953e+00,  1.89901701e+00],\n",
       "       [-2.14397542e-01, -2.90576521e-01],\n",
       "       [-5.81209003e-01,  7.96396081e-01],\n",
       "       [ 4.63086001e-01, -2.04677489e+00],\n",
       "       [ 3.17938980e-01, -2.64307066e+00],\n",
       "       [ 8.28641764e-01, -1.06756640e+00],\n",
       "       [-2.86536879e-01, -3.33944131e-01],\n",
       "       [-4.49560042e-01,  8.52452239e-01],\n",
       "       [-1.09686966e+00,  1.19547270e+00],\n",
       "       [ 6.75438206e-01, -1.07390750e+00],\n",
       "       [-6.13390063e-01,  6.03185977e-01],\n",
       "       [ 1.45955102e+00, -6.98433109e-01],\n",
       "       [ 7.69629575e-01, -1.34292093e+00],\n",
       "       [ 4.07696954e-01, -5.50704034e-01],\n",
       "       [-1.19824331e-01, -2.49672062e-01],\n",
       "       [ 9.87040682e-02, -1.76148005e+00],\n",
       "       [-1.35485742e+00,  6.46593288e-01],\n",
       "       [ 9.95828434e-01,  5.54744311e-03],\n",
       "       [ 4.79937601e-01, -2.83105659e-01],\n",
       "       [ 7.73500050e-01,  3.56864578e-01],\n",
       "       [-2.45972162e+00,  6.83984777e-01],\n",
       "       [ 4.68235717e-01,  1.90742758e+00],\n",
       "       [ 1.62710404e+00,  6.98599233e-01],\n",
       "       [-1.69736729e-02, -4.30302100e-02],\n",
       "       [ 3.99779003e+00,  9.90935791e-01],\n",
       "       [-3.83082620e-01, -2.21664447e+00],\n",
       "       [-9.76238320e-01,  6.81671364e-01],\n",
       "       [ 3.85390755e-01, -2.16438773e+00],\n",
       "       [-1.25732541e+00, -1.67814552e+00],\n",
       "       [ 8.20569914e-01, -3.59524818e-01],\n",
       "       [-5.65637993e-02, -2.43687217e-01],\n",
       "       [-5.77947027e-01, -1.22009047e+00],\n",
       "       [ 1.14212142e-01, -1.75196978e+00],\n",
       "       [ 2.58415259e-01, -5.36616809e-01],\n",
       "       [ 5.70072125e-01, -1.95855032e+00],\n",
       "       [ 1.71917073e+00,  7.08530657e-01],\n",
       "       [ 4.40421752e-01, -4.96400504e-01],\n",
       "       [ 3.47465628e-01,  1.36161539e+00],\n",
       "       [-3.21820897e-01, -5.17001745e-01],\n",
       "       [-6.62047016e-01, -1.41995306e+00],\n",
       "       [-8.91163622e-01, -1.03428531e+00],\n",
       "       [ 3.69265534e-01,  1.83439732e-01],\n",
       "       [ 4.29040462e-01,  8.35342870e-03],\n",
       "       [ 4.62929026e-01, -3.07169226e-01],\n",
       "       [-8.67253635e-01,  8.55328564e-01],\n",
       "       [-1.05672710e+00,  8.73190853e-01],\n",
       "       [ 1.28199942e+00, -8.52054865e-01],\n",
       "       [-1.72544603e+00, -6.56062641e-01],\n",
       "       [ 3.53366783e-01,  1.91867761e+00],\n",
       "       [-1.45341499e+00,  5.86752182e-01],\n",
       "       [ 2.43080843e-01, -9.08412932e-01],\n",
       "       [-1.30785908e+00, -7.76631460e-01],\n",
       "       [ 1.17447478e+00, -1.67097353e+00],\n",
       "       [ 1.52193283e+00, -4.82009596e-01],\n",
       "       [ 1.44202935e+00,  5.38010574e-01],\n",
       "       [ 9.39841691e-01,  5.20176560e-01],\n",
       "       [-1.14147786e+00,  3.99821293e-01],\n",
       "       [-1.57903068e-01, -3.58081635e-01],\n",
       "       [-9.05662812e-01,  7.92187991e-01],\n",
       "       [-2.40035468e+00,  1.56970458e+00],\n",
       "       [-1.16022917e+00,  1.36858711e+00],\n",
       "       [-1.95513158e-01,  4.25735630e-01],\n",
       "       [-1.44117648e+00,  1.68584293e+00],\n",
       "       [-1.77023016e+00,  1.46013705e+00],\n",
       "       [ 9.33659108e-01,  6.76643696e-01],\n",
       "       [ 9.02670513e-01,  3.87410442e-01],\n",
       "       [ 7.58130414e-01, -1.45198522e-01],\n",
       "       [-1.91340391e-01, -7.34764424e-01],\n",
       "       [-2.00752125e+00,  1.74416128e+00],\n",
       "       [ 3.67721661e-01, -2.18843134e+00],\n",
       "       [ 7.92553156e-03, -1.41560195e+00],\n",
       "       [-1.17412880e+00,  6.81238573e-01],\n",
       "       [ 1.09976257e+00,  8.50457407e-01],\n",
       "       [-9.86388343e-01,  9.07325456e-01],\n",
       "       [-1.41005906e-01, -1.71224673e-01],\n",
       "       [-6.59798233e-01, -1.46207106e+00],\n",
       "       [-4.85269088e-02,  1.55940854e+00],\n",
       "       [-1.11077525e+00, -1.04773655e+00],\n",
       "       [ 4.12728737e-01,  1.37115217e+00],\n",
       "       [-1.36956720e+00,  5.55781473e-01],\n",
       "       [ 1.17273401e-02, -1.84016378e+00],\n",
       "       [-7.31893229e-01,  2.28766038e+00],\n",
       "       [ 1.38628792e+00, -1.42740088e+00],\n",
       "       [ 3.68815520e+00,  1.51458581e+00],\n",
       "       [ 2.75554202e-01, -1.81904958e+00],\n",
       "       [-1.41947699e+00,  2.33007970e+00],\n",
       "       [-2.42222887e-01, -2.33265981e+00],\n",
       "       [ 1.78789646e+00,  3.48346407e-01],\n",
       "       [ 7.03955437e-01, -1.37670315e+00],\n",
       "       [-2.56886690e+00,  1.51613234e+00],\n",
       "       [-4.96536263e-01, -4.71489899e-01],\n",
       "       [-1.70839379e+00,  1.68828974e+00],\n",
       "       [ 4.66475180e-01, -1.02034801e+00],\n",
       "       [-6.11392033e-02, -1.69420742e-01],\n",
       "       [ 2.19983815e-01, -1.89860185e+00],\n",
       "       [-1.72904174e+00,  8.09787747e-01],\n",
       "       [-3.10935673e-02,  1.03647784e+00],\n",
       "       [-9.70980258e-01,  5.93919826e-01],\n",
       "       [-2.01818167e-01, -3.78690944e-01],\n",
       "       [-9.61150793e-01,  8.86888895e-01],\n",
       "       [ 7.72036694e-01, -1.82098006e-02],\n",
       "       [-1.75660653e+00,  1.44639464e+00],\n",
       "       [-1.75667554e+00,  1.38652032e+00],\n",
       "       [-2.29061976e-01, -6.39489327e-01],\n",
       "       [ 7.83401613e-02, -5.69467957e-01],\n",
       "       [-1.72142279e+00, -1.55537190e+00],\n",
       "       [-5.88321656e-01, -1.29806316e+00],\n",
       "       [ 1.75034318e+00,  1.02629449e+00],\n",
       "       [-2.11015468e+00,  1.66869237e+00],\n",
       "       [-8.72685375e-02,  7.27355428e-02],\n",
       "       [-1.39321491e+00,  1.84993722e+00],\n",
       "       [ 5.47442511e-01, -3.18182157e-01],\n",
       "       [ 7.74744485e-01, -1.88064356e+00],\n",
       "       [ 9.47301527e-01, -3.50644563e-01],\n",
       "       [-1.16490422e+00,  8.55869209e-01],\n",
       "       [ 7.36570044e-01, -5.80557012e-01],\n",
       "       [-2.68414111e-01, -4.31696228e-01],\n",
       "       [ 7.88590792e-02, -6.59155029e-01],\n",
       "       [ 5.27545459e-03, -8.20595907e-01],\n",
       "       [-2.38666914e-01, -1.03534202e+00],\n",
       "       [-2.59888194e-01,  8.02662951e-01],\n",
       "       [-2.00475202e+00,  1.80471592e+00],\n",
       "       [-1.93277433e+00,  1.73396278e+00],\n",
       "       [ 3.67974849e-01, -9.24985052e-01],\n",
       "       [-4.97932349e-02, -2.42888227e-01],\n",
       "       [ 4.87846057e-02, -1.94796585e+00],\n",
       "       [-3.79234971e-01, -3.65958502e-01],\n",
       "       [ 8.59717624e-01, -3.33671843e-02],\n",
       "       [-1.70368293e+00,  3.09487273e-01],\n",
       "       [ 1.01572754e-01,  1.33923730e-01],\n",
       "       [-1.15560423e+00,  6.96403251e-01],\n",
       "       [-7.44956374e-01,  2.51243622e+00],\n",
       "       [ 1.22148433e-01, -1.00169490e+00],\n",
       "       [-3.47168454e-01, -1.87529761e+00],\n",
       "       [-2.01834315e-01, -1.59940820e-01],\n",
       "       [ 3.59976167e+00,  4.69402113e+00],\n",
       "       [ 2.54773183e-01, -1.90326806e+00],\n",
       "       [-5.24460179e-02, -1.40822960e-02],\n",
       "       [-9.74287626e-01,  2.78678567e+00],\n",
       "       [ 6.77621875e-01, -7.33787611e-01],\n",
       "       [-3.48561084e-01,  1.44232520e+00],\n",
       "       [ 2.41771696e-02,  4.16919280e-01],\n",
       "       [ 5.78398722e-01, -1.47798854e-01],\n",
       "       [-3.97379347e-01, -1.24793332e+00],\n",
       "       [ 5.50417886e-01, -7.79950127e-01],\n",
       "       [-1.26355646e+00, -1.68352833e-01],\n",
       "       [-2.28693346e+00,  7.25424273e-01],\n",
       "       [-9.85319409e-01,  9.38177960e-01],\n",
       "       [ 1.96348999e+00,  1.58157074e+00],\n",
       "       [ 1.21059692e+00, -2.33069084e-01],\n",
       "       [-1.65606370e+00, -3.35174046e-01],\n",
       "       [-3.96971175e-01, -3.06222138e-01],\n",
       "       [ 1.26324359e+00, -3.59013117e-01],\n",
       "       [-2.29763720e-01, -3.56660936e-01],\n",
       "       [ 1.18137948e+00, -2.50808336e-01],\n",
       "       [-1.47394473e+00,  4.02647206e-01],\n",
       "       [-2.80622427e-02,  4.57917257e-02],\n",
       "       [ 2.69376284e+00,  2.42581551e-01],\n",
       "       [-1.53793456e-01, -1.42786487e+00],\n",
       "       [-1.79770590e-01, -1.16307984e+00],\n",
       "       [-1.45035057e+00, -4.27276241e-01],\n",
       "       [ 1.68304347e+00, -1.24657572e+00],\n",
       "       [-1.23832825e-01,  3.66680939e-01],\n",
       "       [-5.11521038e-01,  2.41655329e+00],\n",
       "       [-6.48487905e-01,  2.83667358e+00],\n",
       "       [ 6.18876414e-01, -6.87866329e-01],\n",
       "       [-7.45940502e-02, -3.28566540e-01],\n",
       "       [ 8.58936591e-01, -1.04267244e+00],\n",
       "       [ 7.04664739e-01, -1.03609675e+00],\n",
       "       [-4.20325040e-01, -3.75956273e-01],\n",
       "       [-6.43212910e-02, -1.03689863e+00],\n",
       "       [-6.93344487e-01, -4.30983753e-01],\n",
       "       [-1.59976731e-01, -2.80657554e-01],\n",
       "       [ 3.59721589e-01, -8.37356333e-03],\n",
       "       [-4.82686111e-02, -2.61033351e-01],\n",
       "       [ 1.42273399e+00, -2.16552817e-01],\n",
       "       [ 1.30657900e+00, -1.83016778e-01],\n",
       "       [ 5.49179439e-01, -6.38242675e-01],\n",
       "       [-7.86885314e-01,  7.75170816e-01],\n",
       "       [ 1.97650844e+00, -1.87211447e-01],\n",
       "       [-2.22422578e+00, -6.93658115e-01],\n",
       "       [ 3.00041145e+00,  1.89831241e+00],\n",
       "       [ 2.61824268e-01,  2.06120430e-01],\n",
       "       [-1.55208718e+00, -4.68382033e-01],\n",
       "       [ 6.38716388e-01,  8.65424319e-02],\n",
       "       [-3.61260123e-01, -1.35917298e+00],\n",
       "       [-1.90064348e-01, -1.57975045e+00],\n",
       "       [-1.54278436e+00, -2.00378019e-01],\n",
       "       [-7.17089664e-01,  6.61483643e-01],\n",
       "       [-1.96070643e+00,  1.83734236e+00],\n",
       "       [ 4.39093382e-01, -2.84631765e-01],\n",
       "       [-5.78866170e-01, -9.87304791e-01],\n",
       "       [ 4.08812230e+00,  1.34353371e-01],\n",
       "       [-1.39860883e-01, -4.29608439e-01],\n",
       "       [ 8.18348987e-01, -7.79485916e-01],\n",
       "       [-9.52645611e-01,  7.96104437e-01],\n",
       "       [ 1.52439105e+00, -3.27305120e-01],\n",
       "       [-1.33717851e+00,  3.00907425e-01],\n",
       "       [-5.44159042e-01,  6.21801735e-02],\n",
       "       [-2.01001545e-01, -8.69596959e-01],\n",
       "       [-3.50086479e-01, -4.40271854e-01],\n",
       "       [-1.97502517e-01, -1.70531149e+00],\n",
       "       [-5.89081806e-01, -5.44367007e-02],\n",
       "       [-9.70579610e-03, -2.81628333e-01],\n",
       "       [-2.20643646e+00,  1.71704233e+00],\n",
       "       [ 3.33361185e+00, -3.13886460e-01],\n",
       "       [ 7.21005787e-01, -1.10611172e+00],\n",
       "       [ 1.66931508e-01, -1.09712823e-01],\n",
       "       [ 9.90718935e-01, -3.44606204e-01],\n",
       "       [-5.28988690e-01, -4.09731098e-01],\n",
       "       [ 2.82685928e+00,  5.69878461e-01],\n",
       "       [ 1.58374639e+00, -7.97447204e-01],\n",
       "       [-2.55715868e-01, -8.54078263e-01],\n",
       "       [-5.14988339e-01,  1.09817960e+00]])"
      ]
     },
     "execution_count": 59,
     "metadata": {},
     "output_type": "execute_result"
    }
   ],
   "source": [
    "x_train"
   ]
  },
  {
   "cell_type": "code",
   "execution_count": 60,
   "id": "96c58fd1",
   "metadata": {},
   "outputs": [],
   "source": [
    "x_test=pca.fit_transform(x_test)"
   ]
  },
  {
   "cell_type": "code",
   "execution_count": 63,
   "id": "6ee30311",
   "metadata": {},
   "outputs": [
    {
     "data": {
      "text/plain": [
       "array([[-5.99564804e-01,  1.46571409e+00],\n",
       "       [-1.93607415e+00,  1.18821616e+00],\n",
       "       [ 1.43987326e+00,  7.70110820e-01],\n",
       "       [ 5.02691269e-02, -5.17043796e-01],\n",
       "       [ 8.08581681e-01, -1.05637590e+00],\n",
       "       [ 8.41175943e-02, -1.62456730e+00],\n",
       "       [ 2.47159684e+00, -1.06464313e+00],\n",
       "       [ 1.80024542e+00,  3.25626442e+00],\n",
       "       [-9.48768551e-01,  3.23167979e-01],\n",
       "       [-5.57972639e-04, -4.89280774e-01],\n",
       "       [-2.22118383e+00,  8.88312821e-01],\n",
       "       [ 3.34035252e-01, -8.51450641e-02],\n",
       "       [-5.87162547e-01,  2.56377832e+00],\n",
       "       [ 1.81844503e+00, -1.80099027e-01],\n",
       "       [ 1.04435913e+00,  9.47213228e-01],\n",
       "       [ 2.24867995e-01, -9.56283342e-01],\n",
       "       [-1.38581908e-01,  4.77538259e-01],\n",
       "       [-9.52934785e-01, -2.07774480e-01],\n",
       "       [-2.29121681e+00,  1.27727340e+00],\n",
       "       [-3.86687145e-01, -1.79500240e+00],\n",
       "       [-1.76587762e+00, -9.61824405e-01],\n",
       "       [ 1.17719248e-01, -3.24476837e-01],\n",
       "       [ 1.25433880e+00,  2.22574090e-01],\n",
       "       [ 1.79656111e+00,  5.60525841e-02],\n",
       "       [-3.07287789e-01, -5.59962765e-01],\n",
       "       [ 1.53790391e+00,  3.96496395e-01],\n",
       "       [-3.24142941e-01,  7.54754077e-01],\n",
       "       [ 6.81936475e-01,  1.02390433e-01],\n",
       "       [ 1.04658307e+00, -1.85346340e+00],\n",
       "       [-2.38360365e+00,  4.72238604e-01],\n",
       "       [ 1.23978456e+00,  1.01515619e+00],\n",
       "       [-1.12462856e+00, -7.08382681e-02],\n",
       "       [ 1.04818545e-01, -1.59796947e+00],\n",
       "       [ 9.15594192e-01,  7.40812581e-01],\n",
       "       [ 2.00018691e-01, -2.68303595e-01],\n",
       "       [-1.61159593e+00, -1.17621700e+00],\n",
       "       [ 2.78462507e-01, -2.26144548e-01],\n",
       "       [-9.05081890e-01, -2.09838754e-02],\n",
       "       [ 3.99417771e-01,  1.52497023e-01],\n",
       "       [ 7.73301700e-01, -1.54355136e+00],\n",
       "       [-2.27513492e+00,  6.82284030e-01],\n",
       "       [ 1.07753075e+00, -1.73210896e+00],\n",
       "       [ 7.43789759e-01, -2.86389724e+00],\n",
       "       [ 6.16646433e-01, -1.15905872e+00],\n",
       "       [-9.35566964e-01,  4.52088399e-01],\n",
       "       [ 1.86464408e-01,  1.57294492e+00],\n",
       "       [ 5.54176273e-01, -4.82517770e-01],\n",
       "       [-1.88863036e+00,  1.24014607e+00],\n",
       "       [ 7.64479238e-01, -1.85932459e-01],\n",
       "       [-4.95867430e-01,  8.99497481e-01],\n",
       "       [ 9.94417761e-01, -2.06067509e+00],\n",
       "       [ 2.04031701e-01, -3.54794508e-01],\n",
       "       [-1.98362845e-01, -9.51298501e-01],\n",
       "       [-6.22400309e-01,  8.22904917e-01],\n",
       "       [-1.30354574e-01, -4.53429164e-01],\n",
       "       [ 1.15164857e+00,  6.22182484e-01],\n",
       "       [-1.59429723e-01, -6.89926870e-01],\n",
       "       [-5.13527131e-01,  5.41490602e-01],\n",
       "       [ 1.27426962e+00, -7.64773408e-01],\n",
       "       [-5.90814441e-01,  9.50049852e-01],\n",
       "       [-2.46642988e+00, -1.59836499e-01],\n",
       "       [-8.02886057e-01,  2.39153374e+00],\n",
       "       [-3.19554360e-01, -1.43691940e+00],\n",
       "       [-2.74251669e+00, -6.30542967e-02],\n",
       "       [ 1.32286156e+00, -4.33574602e-01],\n",
       "       [ 1.83384545e+00,  3.17244761e-01],\n",
       "       [ 1.62547273e-01,  2.41203918e-01],\n",
       "       [-7.37741559e-01,  4.71575705e-01],\n",
       "       [ 5.24792590e-01,  2.07208049e-01],\n",
       "       [-1.12415826e+00, -4.29606312e-01],\n",
       "       [-1.11140100e+00,  1.26471089e-01],\n",
       "       [-1.19699544e+00,  2.04126367e-01],\n",
       "       [ 1.14423947e+00, -1.08525781e+00],\n",
       "       [ 1.13515761e+00, -1.72282367e+00],\n",
       "       [-9.98343768e-01,  3.67373971e-01],\n",
       "       [ 9.91604079e-02, -1.18068831e+00],\n",
       "       [-1.11936042e+00, -1.78774678e+00],\n",
       "       [ 2.73033326e+00,  1.93960226e+00],\n",
       "       [ 1.50193957e+00, -3.45823903e-01],\n",
       "       [-2.38956766e+00,  4.49390899e-01],\n",
       "       [-2.50609808e+00,  1.30735343e+00],\n",
       "       [ 4.07362340e+00,  3.02504917e+00],\n",
       "       [-1.11809627e+00,  2.82398829e+00],\n",
       "       [ 1.72545354e+00, -1.75431030e-01],\n",
       "       [-1.39607640e+00,  6.13895826e-01],\n",
       "       [ 9.36241082e-01, -1.94712811e+00],\n",
       "       [ 2.70827876e-02, -2.24914678e-01],\n",
       "       [ 1.36551826e+00, -1.05853918e+00],\n",
       "       [ 9.75706278e-02, -6.25674025e-01],\n",
       "       [ 3.64829801e-01, -8.02624700e-01],\n",
       "       [-1.60605475e+00, -7.84426080e-01],\n",
       "       [-1.07569202e+00,  1.42649721e-01],\n",
       "       [ 1.66175874e+00, -1.20912609e+00],\n",
       "       [ 1.46358565e+00, -2.00093317e+00],\n",
       "       [-2.23423759e+00,  1.03657171e+00],\n",
       "       [-9.97127139e-01, -1.90293126e+00],\n",
       "       [ 3.46077796e-01,  1.19823433e+00],\n",
       "       [-6.34310063e-01,  5.68716633e-01],\n",
       "       [ 5.18315082e-01, -2.04380204e+00],\n",
       "       [ 1.45020268e+00,  3.33042725e-01],\n",
       "       [ 9.02357638e-01,  6.75337734e-01],\n",
       "       [-2.47278160e-01, -8.13248477e-01],\n",
       "       [ 1.29926513e+00, -5.72472864e-01],\n",
       "       [-1.16501349e-01,  3.37489887e-01],\n",
       "       [ 1.67224676e+00, -9.96779642e-01],\n",
       "       [-6.14699186e-01,  6.20575700e-01],\n",
       "       [-1.04584393e+00,  4.63746946e-01],\n",
       "       [-2.21371651e+00,  7.44488090e-01],\n",
       "       [-4.17238281e-01, -1.47839062e+00],\n",
       "       [ 1.57110450e+00, -2.51028776e+00],\n",
       "       [ 5.72362244e-02,  2.24146415e+00],\n",
       "       [-1.82051015e+00,  1.44325720e+00],\n",
       "       [-1.09188482e+00,  9.19077758e-01],\n",
       "       [ 6.39696115e-01, -1.34334712e+00],\n",
       "       [-2.86027094e-01, -1.63933844e+00],\n",
       "       [-1.44955948e-01, -1.89388296e+00],\n",
       "       [-2.30801459e+00,  5.49567653e-01],\n",
       "       [-7.78374373e-01,  4.44103636e-01],\n",
       "       [ 1.28113588e+00, -1.03569859e-02],\n",
       "       [ 2.09961586e+00, -4.77667662e-01],\n",
       "       [ 2.95012201e+00,  2.76540154e+00],\n",
       "       [ 8.57896895e-01, -3.92196350e+00],\n",
       "       [ 1.73854688e-01, -1.15052930e+00],\n",
       "       [ 1.00410010e-01, -3.60896426e-01],\n",
       "       [ 9.18044783e-01,  1.64658107e+00],\n",
       "       [-1.09660144e-01, -6.19748908e-01],\n",
       "       [-1.57491929e+00,  1.94336451e-01],\n",
       "       [ 1.30170028e+00, -5.55339551e-01],\n",
       "       [ 6.63520384e-01,  4.34574985e-01],\n",
       "       [ 2.56632492e+00, -4.54653325e-01],\n",
       "       [-2.67967605e+00, -9.43397116e-02],\n",
       "       [-3.45251080e-01,  9.37950742e-01],\n",
       "       [-1.24584868e+00,  9.07112350e-01],\n",
       "       [-2.76203236e+00,  1.98405166e-01],\n",
       "       [ 1.09133834e+00,  1.59439260e-01],\n",
       "       [ 3.98713732e-01, -6.40273525e-01],\n",
       "       [ 6.79391665e-01, -2.31526052e+00],\n",
       "       [-1.53950647e+00,  8.21889173e-01],\n",
       "       [-1.07894295e+00,  2.91414782e-01],\n",
       "       [-1.08254033e+00,  1.39505467e-01],\n",
       "       [-1.19850730e+00, -9.81327282e-02],\n",
       "       [-2.53777670e-01,  3.16793879e+00],\n",
       "       [-1.08895179e+00, -1.63938794e+00],\n",
       "       [ 7.77749120e-02, -3.04469119e-01],\n",
       "       [ 2.18922069e+00,  1.98662114e+00],\n",
       "       [ 2.99444157e+00,  4.71169868e+00],\n",
       "       [-1.15170722e+00,  1.49886030e-01],\n",
       "       [ 3.20417502e+00,  4.37891596e+00],\n",
       "       [-2.50418333e-01, -5.03465968e-01],\n",
       "       [-2.71937780e+00, -2.01171023e-02],\n",
       "       [ 6.12731890e-01,  1.16076150e-01],\n",
       "       [ 8.51566380e-01,  5.24824910e-01],\n",
       "       [-6.40353205e-01,  8.76106529e-01],\n",
       "       [ 4.88927310e-02, -1.35359523e+00]])"
      ]
     },
     "execution_count": 63,
     "metadata": {},
     "output_type": "execute_result"
    }
   ],
   "source": [
    "x_test"
   ]
  },
  {
   "cell_type": "code",
   "execution_count": 64,
   "id": "716d100f",
   "metadata": {},
   "outputs": [],
   "source": [
    "#classification"
   ]
  },
  {
   "cell_type": "code",
   "execution_count": 65,
   "id": "babef102",
   "metadata": {},
   "outputs": [],
   "source": [
    "from sklearn.linear_model import LogisticRegression"
   ]
  },
  {
   "cell_type": "code",
   "execution_count": 66,
   "id": "d5a46bdb",
   "metadata": {},
   "outputs": [],
   "source": [
    "lrclf=LogisticRegression(max_iter=20,random_state=0)"
   ]
  },
  {
   "cell_type": "code",
   "execution_count": 67,
   "id": "0faba6f8",
   "metadata": {},
   "outputs": [
    {
     "data": {
      "text/plain": [
       "LogisticRegression(max_iter=20, random_state=0)"
      ]
     },
     "execution_count": 67,
     "metadata": {},
     "output_type": "execute_result"
    }
   ],
   "source": [
    "lrclf.fit(x_train,y_train)"
   ]
  },
  {
   "cell_type": "code",
   "execution_count": 68,
   "id": "f3cb4fb7",
   "metadata": {},
   "outputs": [],
   "source": [
    "y_pred=lrclf.predict(x_test)"
   ]
  },
  {
   "cell_type": "code",
   "execution_count": 69,
   "id": "6c9cded4",
   "metadata": {},
   "outputs": [
    {
     "data": {
      "text/plain": [
       "array([1, 1, 1, 1, 1, 1, 1, 1, 1, 1, 1, 1, 1, 1, 1, 1, 1, 1, 1, 1, 1, 1,\n",
       "       1, 1, 1, 1, 1, 1, 1, 1, 1, 1, 1, 1, 1, 1, 1, 1, 1, 1, 1, 1, 1, 1,\n",
       "       1, 1, 1, 1, 1, 1, 1, 1, 1, 1, 1, 1, 1, 1, 1, 1, 1, 1, 1, 1, 1, 1,\n",
       "       1, 1, 1, 1, 1, 1, 1, 1, 1, 1, 1, 1, 1, 1, 1, 1, 1, 1, 1, 1, 1, 1,\n",
       "       1, 1, 1, 1, 1, 1, 1, 1, 1, 1, 1, 1, 1, 1, 1, 1, 1, 1, 1, 1, 1, 1,\n",
       "       1, 1, 1, 1, 1, 1, 1, 1, 1, 1, 1, 1, 1, 1, 1, 1, 1, 1, 1, 1, 1, 1,\n",
       "       1, 1, 1, 1, 1, 1, 1, 1, 1, 1, 1, 1, 1, 1, 1, 1, 1, 1, 1, 1, 1, 1])"
      ]
     },
     "execution_count": 69,
     "metadata": {},
     "output_type": "execute_result"
    }
   ],
   "source": [
    "y_pred"
   ]
  },
  {
   "cell_type": "code",
   "execution_count": 70,
   "id": "7e367257",
   "metadata": {},
   "outputs": [
    {
     "data": {
      "text/plain": [
       "array([1, 0, 1, 0, 1, 0, 1, 1, 0, 1, 1, 1, 1, 1, 1, 0, 0, 1, 1, 0, 0, 1,\n",
       "       1, 1, 1, 1, 1, 1, 0, 0, 1, 1, 1, 1, 1, 0, 1, 1, 1, 1, 1, 0, 1, 1,\n",
       "       1, 1, 1, 1, 0, 1, 1, 1, 1, 1, 1, 1, 1, 0, 1, 1, 1, 0, 1, 0, 1, 1,\n",
       "       1, 1, 1, 1, 0, 1, 1, 1, 1, 1, 0, 0, 1, 0, 1, 0, 0, 1, 0, 1, 1, 1,\n",
       "       1, 1, 1, 0, 0, 0, 1, 0, 1, 1, 1, 1, 1, 1, 1, 0, 1, 1, 1, 1, 1, 0,\n",
       "       1, 0, 0, 1, 0, 1, 1, 1, 1, 1, 1, 0, 1, 1, 0, 0, 1, 1, 0, 1, 1, 1,\n",
       "       0, 0, 1, 1, 1, 1, 1, 1, 1, 1, 0, 1, 1, 0, 1, 1, 0, 0, 1, 1, 1, 0])"
      ]
     },
     "execution_count": 70,
     "metadata": {},
     "output_type": "execute_result"
    }
   ],
   "source": [
    "y_test"
   ]
  },
  {
   "cell_type": "code",
   "execution_count": 71,
   "id": "9f5d89c8",
   "metadata": {},
   "outputs": [],
   "source": [
    "from sklearn.metrics import accuracy_score,confusion_matrix"
   ]
  },
  {
   "cell_type": "code",
   "execution_count": 72,
   "id": "496f61cc",
   "metadata": {},
   "outputs": [
    {
     "name": "stdout",
     "output_type": "stream",
     "text": [
      "accuracy 0.7207792207792207\n"
     ]
    }
   ],
   "source": [
    "print(\"accuracy\",accuracy_score(y_pred,y_test))"
   ]
  },
  {
   "cell_type": "code",
   "execution_count": 73,
   "id": "703cd43d",
   "metadata": {},
   "outputs": [
    {
     "name": "stdout",
     "output_type": "stream",
     "text": [
      "confusion [[  0   0]\n",
      " [ 43 111]]\n"
     ]
    }
   ],
   "source": [
    "print(\"confusion\",confusion_matrix(y_pred,y_test))"
   ]
  },
  {
   "cell_type": "code",
   "execution_count": 75,
   "id": "2ce81243",
   "metadata": {},
   "outputs": [],
   "source": [
    "#visualization"
   ]
  },
  {
   "cell_type": "code",
   "execution_count": 77,
   "id": "0f78b54d",
   "metadata": {},
   "outputs": [
    {
     "data": {
      "text/plain": [
       "array([-5.99564804e-01, -1.93607415e+00,  1.43987326e+00,  5.02691269e-02,\n",
       "        8.08581681e-01,  8.41175943e-02,  2.47159684e+00,  1.80024542e+00,\n",
       "       -9.48768551e-01, -5.57972639e-04, -2.22118383e+00,  3.34035252e-01,\n",
       "       -5.87162547e-01,  1.81844503e+00,  1.04435913e+00,  2.24867995e-01,\n",
       "       -1.38581908e-01, -9.52934785e-01, -2.29121681e+00, -3.86687145e-01,\n",
       "       -1.76587762e+00,  1.17719248e-01,  1.25433880e+00,  1.79656111e+00,\n",
       "       -3.07287789e-01,  1.53790391e+00, -3.24142941e-01,  6.81936475e-01,\n",
       "        1.04658307e+00, -2.38360365e+00,  1.23978456e+00, -1.12462856e+00,\n",
       "        1.04818545e-01,  9.15594192e-01,  2.00018691e-01, -1.61159593e+00,\n",
       "        2.78462507e-01, -9.05081890e-01,  3.99417771e-01,  7.73301700e-01,\n",
       "       -2.27513492e+00,  1.07753075e+00,  7.43789759e-01,  6.16646433e-01,\n",
       "       -9.35566964e-01,  1.86464408e-01,  5.54176273e-01, -1.88863036e+00,\n",
       "        7.64479238e-01, -4.95867430e-01,  9.94417761e-01,  2.04031701e-01,\n",
       "       -1.98362845e-01, -6.22400309e-01, -1.30354574e-01,  1.15164857e+00,\n",
       "       -1.59429723e-01, -5.13527131e-01,  1.27426962e+00, -5.90814441e-01,\n",
       "       -2.46642988e+00, -8.02886057e-01, -3.19554360e-01, -2.74251669e+00,\n",
       "        1.32286156e+00,  1.83384545e+00,  1.62547273e-01, -7.37741559e-01,\n",
       "        5.24792590e-01, -1.12415826e+00, -1.11140100e+00, -1.19699544e+00,\n",
       "        1.14423947e+00,  1.13515761e+00, -9.98343768e-01,  9.91604079e-02,\n",
       "       -1.11936042e+00,  2.73033326e+00,  1.50193957e+00, -2.38956766e+00,\n",
       "       -2.50609808e+00,  4.07362340e+00, -1.11809627e+00,  1.72545354e+00,\n",
       "       -1.39607640e+00,  9.36241082e-01,  2.70827876e-02,  1.36551826e+00,\n",
       "        9.75706278e-02,  3.64829801e-01, -1.60605475e+00, -1.07569202e+00,\n",
       "        1.66175874e+00,  1.46358565e+00, -2.23423759e+00, -9.97127139e-01,\n",
       "        3.46077796e-01, -6.34310063e-01,  5.18315082e-01,  1.45020268e+00,\n",
       "        9.02357638e-01, -2.47278160e-01,  1.29926513e+00, -1.16501349e-01,\n",
       "        1.67224676e+00, -6.14699186e-01, -1.04584393e+00, -2.21371651e+00,\n",
       "       -4.17238281e-01,  1.57110450e+00,  5.72362244e-02, -1.82051015e+00,\n",
       "       -1.09188482e+00,  6.39696115e-01, -2.86027094e-01, -1.44955948e-01,\n",
       "       -2.30801459e+00, -7.78374373e-01,  1.28113588e+00,  2.09961586e+00,\n",
       "        2.95012201e+00,  8.57896895e-01,  1.73854688e-01,  1.00410010e-01,\n",
       "        9.18044783e-01, -1.09660144e-01, -1.57491929e+00,  1.30170028e+00,\n",
       "        6.63520384e-01,  2.56632492e+00, -2.67967605e+00, -3.45251080e-01,\n",
       "       -1.24584868e+00, -2.76203236e+00,  1.09133834e+00,  3.98713732e-01,\n",
       "        6.79391665e-01, -1.53950647e+00, -1.07894295e+00, -1.08254033e+00,\n",
       "       -1.19850730e+00, -2.53777670e-01, -1.08895179e+00,  7.77749120e-02,\n",
       "        2.18922069e+00,  2.99444157e+00, -1.15170722e+00,  3.20417502e+00,\n",
       "       -2.50418333e-01, -2.71937780e+00,  6.12731890e-01,  8.51566380e-01,\n",
       "       -6.40353205e-01,  4.88927310e-02])"
      ]
     },
     "execution_count": 77,
     "metadata": {},
     "output_type": "execute_result"
    }
   ],
   "source": [
    "x_test[:,0]"
   ]
  },
  {
   "cell_type": "code",
   "execution_count": 79,
   "id": "9f3fccbc",
   "metadata": {},
   "outputs": [],
   "source": [
    "import matplotlib.pyplot as plt"
   ]
  },
  {
   "cell_type": "code",
   "execution_count": 83,
   "id": "3eff7086",
   "metadata": {},
   "outputs": [
    {
     "data": {
      "text/plain": [
       "<matplotlib.collections.PathCollection at 0xe9ed0d0>"
      ]
     },
     "execution_count": 83,
     "metadata": {},
     "output_type": "execute_result"
    },
    {
     "data": {
      "image/png": "[encoded data removed]",
      "text/plain": [
       "<Figure size 432x288 with 1 Axes>"
      ]
     },
     "metadata": {
      "needs_background": "light"
     },
     "output_type": "display_data"
    }
   ],
   "source": [
    "#observed data plot\n",
    "plt.scatter(x_test[:,0],y_test,c=y_test)"
   ]
  },
  {
   "cell_type": "code",
   "execution_count": 84,
   "id": "65a7a5b0",
   "metadata": {},
   "outputs": [
    {
     "data": {
      "text/plain": [
       "<matplotlib.collections.PathCollection at 0xea00d30>"
      ]
     },
     "execution_count": 84,
     "metadata": {},
     "output_type": "execute_result"
    },
    {
     "data": {
      "image/png": "[encoded data removed]",
      "text/plain": [
       "<Figure size 432x288 with 1 Axes>"
      ]
     },
     "metadata": {
      "needs_background": "light"
     },
     "output_type": "display_data"
    }
   ],
   "source": [
    "# predicted data plot\n",
    "plt.scatter(x_test[:,0],y_pred,c=y_pred)"
   ]
  },
  {
   "cell_type": "code",
   "execution_count": null,
   "id": "8e3669d7",
   "metadata": {},
   "outputs": [],
   "source": []
  }
 ],
 "metadata": {
  "kernelspec": {
   "display_name": "Python 3 (ipykernel)",
   "language": "python",
   "name": "python3"
  },
  "language_info": {
   "codemirror_mode": {
    "name": "ipython",
    "version": 3
   },
   "file_extension": ".py",
   "mimetype": "text/x-python",
   "name": "python",
   "nbconvert_exporter": "python",
   "pygments_lexer": "ipython3",
   "version": "3.9.12"
  }
 },
 "nbformat": 4,
 "nbformat_minor": 5
}
